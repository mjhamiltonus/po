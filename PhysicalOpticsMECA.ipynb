{
 "cells": [
  {
   "cell_type": "code",
   "execution_count": 1,
   "metadata": {
    "collapsed": true,
    "pycharm": {
     "name": "#%%\n"
    }
   },
   "outputs": [],
   "source": [
    "import jupyter\n",
    "import numpy as np"
   ]
  },
  {
   "cell_type": "markdown",
   "source": [
    "The paper (Gutierrez-Meana, et. al. 2010) is 3d. No 2d approximation\n",
    "is really meaningful (unfortunately)\n",
    "\n",
    "Three dimensional coordinate system for now: (x,y,z).\n",
    "\n",
    "z is up, x is East, y is North. So, right handed.\n",
    "\n",
    "vector_r_hat is the unit vector towards the observation point.\n",
    "vector_p_hat is the unit vector towards the facet.\n",
    "vector_v12 is the triangle facet edge 1.\n",
    "vector_v13 is the triangle facet edge 2.\n",
    "vector_v32 would be the third facet edge, but is degenerate (we don't\n",
    "need it as the triangle is already fully defined by v12 and v13).\n",
    "\n",
    "Problematically, two items are never discussed:\n",
    "1. Vector to the source. Is this assumed [0,0,0], or assume to be at r,\n",
    "a monostatic assumption?\n",
    "r is transformed into a triangular facet:\n",
    "vector_r_n = v01 + f v12 + g v13\n",
    "\"f and g are real coefficients\", which are really geometric scaling\n",
    "factors to make the integral over the facet turn out correctly.\n",
    "\n",
    "\n",
    "2. P_obs is never mentioned in the text.\n",
    "This really is vague. But, I am guessing that r_hat is the unit vector\n",
    "to the observation point from the origin (though this is not specified).\n",
    "p_i_hat is the unit vector from origin to ith facet barycenter.\n",
    "\n",
    "That makes r_hat - p_i_hat the vector from the facet towards the\n",
    "observation point.\n",
    "\n",
    "Let's do some simple examples on that:"
   ],
   "metadata": {
    "collapsed": false,
    "pycharm": {
     "name": "#%% md\n"
    }
   }
  },
  {
   "cell_type": "code",
   "source": [
    "vector_r = np.array([1,0,0])\n",
    "vector_p = np.array([0,1,0])\n",
    "\n",
    "vector_rmp = vector_r - vector_p  # that's r - p\n",
    "\n",
    "print(\"vector r-p: {:}\".format(vector_rmp))"
   ],
   "metadata": {
    "collapsed": false,
    "pycharm": {
     "name": "#%%\n"
    }
   },
   "execution_count": 4,
   "outputs": [
    {
     "name": "stdout",
     "output_type": "stream",
     "text": [
      "vector r-p: [ 1 -1  0]\n"
     ]
    }
   ]
  },
  {
   "cell_type": "markdown",
   "source": [
    "So if I start at p (0,1,0), and I move to (1,1,), then to (1,0,0), I\n",
    "am now at the observation point r.\n",
    "\n",
    "It's not a unit vector but I don't really care, as the next thing I\n",
    "do is dot product with the edges of the triangle - in other words,\n",
    "I project onto that."
   ],
   "metadata": {
    "collapsed": false,
    "pycharm": {
     "name": "#%% md\n"
    }
   }
  },
  {
   "cell_type": "code",
   "execution_count": null,
   "outputs": [],
   "source": [
    "vector_v12 = [0,1,0]\n",
    "vector_v13 = []"
   ],
   "metadata": {
    "collapsed": false,
    "pycharm": {
     "name": "#%%\n"
    }
   }
  }
 ],
 "metadata": {
  "kernelspec": {
   "display_name": "Python 3",
   "language": "python",
   "name": "python3"
  },
  "language_info": {
   "codemirror_mode": {
    "name": "ipython",
    "version": 2
   },
   "file_extension": ".py",
   "mimetype": "text/x-python",
   "name": "python",
   "nbconvert_exporter": "python",
   "pygments_lexer": "ipython2",
   "version": "2.7.6"
  }
 },
 "nbformat": 4,
 "nbformat_minor": 0
}